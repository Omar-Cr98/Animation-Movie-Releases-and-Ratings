{
 "cells": [
  {
   "cell_type": "code",
   "execution_count": 1,
   "metadata": {},
   "outputs": [],
   "source": [
    "import pandas as pd\n",
    "import seaborn as sns\n",
    "import matplotlib.pyplot as plt\n",
    "%matplotlib inline"
   ]
  },
  {
   "cell_type": "markdown",
   "metadata": {},
   "source": [
    "### Importing \"Movies\" Dataframe\n"
   ]
  },
  {
   "cell_type": "code",
   "execution_count": 2,
   "metadata": {},
   "outputs": [
    {
     "data": {
      "text/plain": [
       "(62423, 3)"
      ]
     },
     "execution_count": 2,
     "metadata": {},
     "output_type": "execute_result"
    }
   ],
   "source": [
    "movies = pd.read_csv('/Users/omaralamri/Desktop/ml-25m/movies.csv', sep=',')\n",
    "movies.shape"
   ]
  },
  {
   "cell_type": "code",
   "execution_count": 3,
   "metadata": {},
   "outputs": [
    {
     "data": {
      "text/html": [
       "<div>\n",
       "<style scoped>\n",
       "    .dataframe tbody tr th:only-of-type {\n",
       "        vertical-align: middle;\n",
       "    }\n",
       "\n",
       "    .dataframe tbody tr th {\n",
       "        vertical-align: top;\n",
       "    }\n",
       "\n",
       "    .dataframe thead th {\n",
       "        text-align: right;\n",
       "    }\n",
       "</style>\n",
       "<table border=\"1\" class=\"dataframe\">\n",
       "  <thead>\n",
       "    <tr style=\"text-align: right;\">\n",
       "      <th></th>\n",
       "      <th>movieId</th>\n",
       "      <th>title</th>\n",
       "      <th>genres</th>\n",
       "    </tr>\n",
       "  </thead>\n",
       "  <tbody>\n",
       "    <tr>\n",
       "      <td>0</td>\n",
       "      <td>1</td>\n",
       "      <td>Toy Story (1995)</td>\n",
       "      <td>Adventure|Animation|Children|Comedy|Fantasy</td>\n",
       "    </tr>\n",
       "    <tr>\n",
       "      <td>1</td>\n",
       "      <td>2</td>\n",
       "      <td>Jumanji (1995)</td>\n",
       "      <td>Adventure|Children|Fantasy</td>\n",
       "    </tr>\n",
       "    <tr>\n",
       "      <td>2</td>\n",
       "      <td>3</td>\n",
       "      <td>Grumpier Old Men (1995)</td>\n",
       "      <td>Comedy|Romance</td>\n",
       "    </tr>\n",
       "    <tr>\n",
       "      <td>3</td>\n",
       "      <td>4</td>\n",
       "      <td>Waiting to Exhale (1995)</td>\n",
       "      <td>Comedy|Drama|Romance</td>\n",
       "    </tr>\n",
       "    <tr>\n",
       "      <td>4</td>\n",
       "      <td>5</td>\n",
       "      <td>Father of the Bride Part II (1995)</td>\n",
       "      <td>Comedy</td>\n",
       "    </tr>\n",
       "  </tbody>\n",
       "</table>\n",
       "</div>"
      ],
      "text/plain": [
       "   movieId                               title  \\\n",
       "0        1                    Toy Story (1995)   \n",
       "1        2                      Jumanji (1995)   \n",
       "2        3             Grumpier Old Men (1995)   \n",
       "3        4            Waiting to Exhale (1995)   \n",
       "4        5  Father of the Bride Part II (1995)   \n",
       "\n",
       "                                        genres  \n",
       "0  Adventure|Animation|Children|Comedy|Fantasy  \n",
       "1                   Adventure|Children|Fantasy  \n",
       "2                               Comedy|Romance  \n",
       "3                         Comedy|Drama|Romance  \n",
       "4                                       Comedy  "
      ]
     },
     "execution_count": 3,
     "metadata": {},
     "output_type": "execute_result"
    }
   ],
   "source": [
    "movies.head()"
   ]
  },
  {
   "cell_type": "markdown",
   "metadata": {},
   "source": [
    "# Clean the Data"
   ]
  },
  {
   "cell_type": "markdown",
   "metadata": {},
   "source": [
    "### 1. Extract year from title"
   ]
  },
  {
   "cell_type": "code",
   "execution_count": 4,
   "metadata": {},
   "outputs": [
    {
     "name": "stdout",
     "output_type": "stream",
     "text": [
      "   movieId                               title  \\\n",
      "0        1                    Toy Story (1995)   \n",
      "1        2                      Jumanji (1995)   \n",
      "2        3             Grumpier Old Men (1995)   \n",
      "3        4            Waiting to Exhale (1995)   \n",
      "4        5  Father of the Bride Part II (1995)   \n",
      "\n",
      "                                        genres  year  \n",
      "0  Adventure|Animation|Children|Comedy|Fantasy  1995  \n",
      "1                   Adventure|Children|Fantasy  1995  \n",
      "2                               Comedy|Romance  1995  \n",
      "3                         Comedy|Drama|Romance  1995  \n",
      "4                                       Comedy  1995  \n"
     ]
    }
   ],
   "source": [
    "movies['year'] = movies['title'].str.extract('.*\\((.*)\\).*',expand = True)\n",
    "print(movies.head())"
   ]
  },
  {
   "cell_type": "code",
   "execution_count": 5,
   "metadata": {},
   "outputs": [
    {
     "name": "stdout",
     "output_type": "stream",
     "text": [
      "<class 'pandas.core.frame.DataFrame'>\n",
      "RangeIndex: 62423 entries, 0 to 62422\n",
      "Data columns (total 4 columns):\n",
      "movieId    62423 non-null int64\n",
      "title      62423 non-null object\n",
      "genres     62423 non-null object\n",
      "year       62016 non-null object\n",
      "dtypes: int64(1), object(3)\n",
      "memory usage: 1.9+ MB\n"
     ]
    }
   ],
   "source": [
    "movies.info()"
   ]
  },
  {
   "cell_type": "markdown",
   "metadata": {},
   "source": [
    "### 2. Convert ' year ' column to a numeric datatybe"
   ]
  },
  {
   "cell_type": "code",
   "execution_count": 6,
   "metadata": {},
   "outputs": [],
   "source": [
    "movies['year'] = pd.to_numeric(movies['year'],errors='coerce',downcast='float')"
   ]
  },
  {
   "cell_type": "markdown",
   "metadata": {},
   "source": [
    "### 3. Drop any null or dublicated values"
   ]
  },
  {
   "cell_type": "code",
   "execution_count": 7,
   "metadata": {},
   "outputs": [
    {
     "data": {
      "text/plain": [
       "movieId    False\n",
       "title      False\n",
       "genres     False\n",
       "year       False\n",
       "dtype: bool"
      ]
     },
     "execution_count": 7,
     "metadata": {},
     "output_type": "execute_result"
    }
   ],
   "source": [
    "movies.drop_duplicates(inplace=True)\n",
    "movies.dropna(inplace=True)\n",
    "movies.isnull().any()"
   ]
  },
  {
   "cell_type": "code",
   "execution_count": 8,
   "metadata": {},
   "outputs": [
    {
     "data": {
      "text/html": [
       "<div>\n",
       "<style scoped>\n",
       "    .dataframe tbody tr th:only-of-type {\n",
       "        vertical-align: middle;\n",
       "    }\n",
       "\n",
       "    .dataframe tbody tr th {\n",
       "        vertical-align: top;\n",
       "    }\n",
       "\n",
       "    .dataframe thead th {\n",
       "        text-align: right;\n",
       "    }\n",
       "</style>\n",
       "<table border=\"1\" class=\"dataframe\">\n",
       "  <thead>\n",
       "    <tr style=\"text-align: right;\">\n",
       "      <th></th>\n",
       "      <th>movieId</th>\n",
       "      <th>title</th>\n",
       "      <th>genres</th>\n",
       "      <th>year</th>\n",
       "    </tr>\n",
       "  </thead>\n",
       "  <tbody>\n",
       "  </tbody>\n",
       "</table>\n",
       "</div>"
      ],
      "text/plain": [
       "Empty DataFrame\n",
       "Columns: [movieId, title, genres, year]\n",
       "Index: []"
      ]
     },
     "execution_count": 8,
     "metadata": {},
     "output_type": "execute_result"
    }
   ],
   "source": [
    "nan_df = movies[movies.isna().any(axis=1)]\n",
    "nan_df.head()"
   ]
  },
  {
   "cell_type": "markdown",
   "metadata": {},
   "source": [
    "# General Analysis"
   ]
  },
  {
   "cell_type": "markdown",
   "metadata": {},
   "source": [
    "### What is the minimum and maximum year?"
   ]
  },
  {
   "cell_type": "code",
   "execution_count": 9,
   "metadata": {},
   "outputs": [
    {
     "name": "stdout",
     "output_type": "stream",
     "text": [
      "1874.0 - 2019.0\n"
     ]
    }
   ],
   "source": [
    "Years = movies['year'].unique().tolist()\n",
    "print(min(Years), '-', max(Years))"
   ]
  },
  {
   "cell_type": "markdown",
   "metadata": {},
   "source": [
    "### Total number of Years"
   ]
  },
  {
   "cell_type": "code",
   "execution_count": 10,
   "metadata": {},
   "outputs": [
    {
     "name": "stdout",
     "output_type": "stream",
     "text": [
      "135\n"
     ]
    }
   ],
   "source": [
    "print(len(Years))"
   ]
  },
  {
   "cell_type": "markdown",
   "metadata": {},
   "source": [
    "### Total number of Movies\n"
   ]
  },
  {
   "cell_type": "code",
   "execution_count": 11,
   "metadata": {},
   "outputs": [
    {
     "name": "stdout",
     "output_type": "stream",
     "text": [
      "61913\n"
     ]
    }
   ],
   "source": [
    "titles = movies['title'].unique().tolist()\n",
    "print(len(titles))"
   ]
  },
  {
   "cell_type": "markdown",
   "metadata": {},
   "source": [
    "### Total number of Movies per Genre\n"
   ]
  },
  {
   "cell_type": "code",
   "execution_count": 12,
   "metadata": {},
   "outputs": [
    {
     "data": {
      "text/plain": [
       "Drama                 25558\n",
       "Comedy                16843\n",
       "Thriller               8631\n",
       "Romance                7708\n",
       "Action                 7335\n",
       "Horror                 5970\n",
       "Documentary            5561\n",
       "Crime                  5314\n",
       "(no genres listed)     4798\n",
       "Adventure              4136\n",
       "Sci-Fi                 3583\n",
       "Children               2930\n",
       "Animation              2927\n",
       "Mystery                2921\n",
       "Fantasy                2724\n",
       "War                    1874\n",
       "Western                1399\n",
       "Musical                1053\n",
       "Film-Noir               353\n",
       "IMAX                    195\n",
       "dtype: int64"
      ]
     },
     "execution_count": 12,
     "metadata": {},
     "output_type": "execute_result"
    }
   ],
   "source": [
    "genre_count = movies['genres'].str.split('|', expand=True).stack().value_counts()\n",
    "genre_count"
   ]
  },
  {
   "cell_type": "markdown",
   "metadata": {},
   "source": [
    "### Importing \"Ratings\" Dataframe\n"
   ]
  },
  {
   "cell_type": "code",
   "execution_count": 13,
   "metadata": {},
   "outputs": [
    {
     "name": "stdout",
     "output_type": "stream",
     "text": [
      "          userId  movieId  rating\n",
      "25000091  162541    55768     2.5\n",
      "25000092  162541    56176     2.0\n",
      "25000093  162541    58559     4.0\n",
      "25000094  162541    63876     5.0\n"
     ]
    }
   ],
   "source": [
    "rating = pd.read_csv('/Users/omaralamri/Desktop/ml-25m/ratings.csv')\n",
    "del rating['timestamp']\n",
    "print (rating.tail(4))\n"
   ]
  },
  {
   "cell_type": "code",
   "execution_count": 14,
   "metadata": {},
   "outputs": [
    {
     "name": "stdout",
     "output_type": "stream",
     "text": [
      "<class 'pandas.core.frame.DataFrame'>\n",
      "RangeIndex: 25000095 entries, 0 to 25000094\n",
      "Data columns (total 3 columns):\n",
      "userId     int64\n",
      "movieId    int64\n",
      "rating     float64\n",
      "dtypes: float64(1), int64(2)\n",
      "memory usage: 572.2 MB\n"
     ]
    }
   ],
   "source": [
    "rating.info()"
   ]
  },
  {
   "cell_type": "markdown",
   "metadata": {},
   "source": [
    "## Merge Movies dataframe and Rating Datafram"
   ]
  },
  {
   "cell_type": "code",
   "execution_count": 15,
   "metadata": {},
   "outputs": [
    {
     "name": "stdout",
     "output_type": "stream",
     "text": [
      "   movieId                               title  \\\n",
      "0        1                    Toy Story (1995)   \n",
      "1        2                      Jumanji (1995)   \n",
      "2        3             Grumpier Old Men (1995)   \n",
      "3        4            Waiting to Exhale (1995)   \n",
      "4        5  Father of the Bride Part II (1995)   \n",
      "\n",
      "                                        genres    year        userId    rating  \n",
      "0  Adventure|Animation|Children|Comedy|Fantasy  1995.0  81294.564728  3.893708  \n",
      "1                   Adventure|Children|Fantasy  1995.0  81358.542554  3.251527  \n",
      "2                               Comedy|Romance  1995.0  81343.694934  3.142028  \n",
      "3                         Comedy|Drama|Romance  1995.0  81266.193024  2.853547  \n",
      "4                                       Comedy  1995.0  81002.872460  3.058434  \n"
     ]
    }
   ],
   "source": [
    "avg_ratings = rating.groupby('movieId', as_index = False).mean()\n",
    "box_office = movies.merge(avg_ratings, on = 'movieId', how = 'inner')\n",
    "print(box_office.head(5))"
   ]
  },
  {
   "cell_type": "markdown",
   "metadata": {},
   "source": [
    "## Analysis on 'Animation' Movies"
   ]
  },
  {
   "cell_type": "markdown",
   "metadata": {},
   "source": [
    "### How many \"Animation\" movies have been released between the years 1995 - 2015?"
   ]
  },
  {
   "cell_type": "code",
   "execution_count": 16,
   "metadata": {},
   "outputs": [
    {
     "name": "stdout",
     "output_type": "stream",
     "text": [
      "Total number of \"Animation\" movies between the years 1995-2015: \n",
      "1364\n"
     ]
    },
    {
     "data": {
      "text/html": [
       "<div>\n",
       "<style scoped>\n",
       "    .dataframe tbody tr th:only-of-type {\n",
       "        vertical-align: middle;\n",
       "    }\n",
       "\n",
       "    .dataframe tbody tr th {\n",
       "        vertical-align: top;\n",
       "    }\n",
       "\n",
       "    .dataframe thead th {\n",
       "        text-align: right;\n",
       "    }\n",
       "</style>\n",
       "<table border=\"1\" class=\"dataframe\">\n",
       "  <thead>\n",
       "    <tr style=\"text-align: right;\">\n",
       "      <th></th>\n",
       "      <th>movieId</th>\n",
       "      <th>title</th>\n",
       "      <th>genres</th>\n",
       "      <th>year</th>\n",
       "    </tr>\n",
       "  </thead>\n",
       "  <tbody>\n",
       "    <tr>\n",
       "      <td>0</td>\n",
       "      <td>1</td>\n",
       "      <td>Toy Story (1995)</td>\n",
       "      <td>Adventure|Animation|Children|Comedy|Fantasy</td>\n",
       "      <td>1995.0</td>\n",
       "    </tr>\n",
       "    <tr>\n",
       "      <td>12</td>\n",
       "      <td>13</td>\n",
       "      <td>Balto (1995)</td>\n",
       "      <td>Adventure|Animation|Children</td>\n",
       "      <td>1995.0</td>\n",
       "    </tr>\n",
       "    <tr>\n",
       "      <td>47</td>\n",
       "      <td>48</td>\n",
       "      <td>Pocahontas (1995)</td>\n",
       "      <td>Animation|Children|Drama|Musical|Romance</td>\n",
       "      <td>1995.0</td>\n",
       "    </tr>\n",
       "    <tr>\n",
       "      <td>236</td>\n",
       "      <td>239</td>\n",
       "      <td>Goofy Movie, A (1995)</td>\n",
       "      <td>Animation|Children|Comedy|Romance</td>\n",
       "      <td>1995.0</td>\n",
       "    </tr>\n",
       "    <tr>\n",
       "      <td>241</td>\n",
       "      <td>244</td>\n",
       "      <td>Gumby: The Movie (1995)</td>\n",
       "      <td>Animation|Children</td>\n",
       "      <td>1995.0</td>\n",
       "    </tr>\n",
       "  </tbody>\n",
       "</table>\n",
       "</div>"
      ],
      "text/plain": [
       "     movieId                    title  \\\n",
       "0          1         Toy Story (1995)   \n",
       "12        13             Balto (1995)   \n",
       "47        48        Pocahontas (1995)   \n",
       "236      239    Goofy Movie, A (1995)   \n",
       "241      244  Gumby: The Movie (1995)   \n",
       "\n",
       "                                          genres    year  \n",
       "0    Adventure|Animation|Children|Comedy|Fantasy  1995.0  \n",
       "12                  Adventure|Animation|Children  1995.0  \n",
       "47      Animation|Children|Drama|Musical|Romance  1995.0  \n",
       "236            Animation|Children|Comedy|Romance  1995.0  \n",
       "241                           Animation|Children  1995.0  "
      ]
     },
     "execution_count": 16,
     "metadata": {},
     "output_type": "execute_result"
    }
   ],
   "source": [
    "between1995_2015 = movies['year'].between(1995, 2015)\n",
    "is_Animation = movies['genres'].str.contains('Animation')\n",
    "print('Total number of \"Animation\" movies between the years 1995-2015: ')\n",
    "print(len(movies[between1995_2015 & is_Animation]))\n",
    "movies[between1995_2015 & is_Animation].head()"
   ]
  },
  {
   "cell_type": "markdown",
   "metadata": {},
   "source": [
    "### Store movies by genre"
   ]
  },
  {
   "cell_type": "code",
   "execution_count": 17,
   "metadata": {},
   "outputs": [],
   "source": [
    "movies['Drama'] = movies['genres'].str.contains('Drama')\n",
    "movies['Comedy'] = movies['genres'].str.contains('Comedy')\n",
    "movies['Thriller'] = movies['genres'].str.contains('Thriller')\n",
    "movies['Romance'] = movies['genres'].str.contains('Romance')\n",
    "movies['Animation'] = movies['genres'].str.contains('Animation')"
   ]
  },
  {
   "cell_type": "markdown",
   "metadata": {},
   "source": [
    "### Group all movies by year"
   ]
  },
  {
   "cell_type": "code",
   "execution_count": 18,
   "metadata": {},
   "outputs": [],
   "source": [
    "by_year = movies.groupby(\"year\",as_index=False).sum()\n",
    "by_year = by_year[-25:-1]"
   ]
  },
  {
   "cell_type": "markdown",
   "metadata": {},
   "source": [
    "### The production rate of Animation movies between the years 1995 - 2015:"
   ]
  },
  {
   "cell_type": "code",
   "execution_count": 19,
   "metadata": {},
   "outputs": [
    {
     "data": {
      "image/png": "[encoded data removed]",
      "text/plain": [
       "<Figure size 648x540 with 1 Axes>"
      ]
     },
     "metadata": {
      "needs_background": "light"
     },
     "output_type": "display_data"
    }
   ],
   "source": [
    "plt.figure(figsize=(9, 7.5))\n",
    "sns.scatterplot(by_year['year'], by_year['Animation'], s=100);\n",
    "plt.grid(True)\n",
    "\n",
    "plt.xlabel('Release Year')\n",
    "plt.ylabel('Number of Movies')\n",
    "plt.title(\"Production rate of Animation movies between the years 1995 - 2015 :\");\n"
   ]
  },
  {
   "cell_type": "markdown",
   "metadata": {},
   "source": [
    "### Animation movies production rate compared to other genres:"
   ]
  },
  {
   "cell_type": "code",
   "execution_count": 20,
   "metadata": {},
   "outputs": [
    {
     "data": {
      "image/png": "[encoded data removed]",
      "text/plain": [
       "<Figure size 720x540 with 1 Axes>"
      ]
     },
     "metadata": {
      "needs_background": "light"
     },
     "output_type": "display_data"
    }
   ],
   "source": [
    "\n",
    "plt.figure(figsize=(10, 7.5))\n",
    "\n",
    "plt.plot(by_year['year'], by_year['Drama'], label='Drama')\n",
    "plt.plot(by_year['year'], by_year['Comedy'], label='Comedy')\n",
    "plt.plot(by_year['year'], by_year['Thriller'], label='Thriller')\n",
    "plt.plot(by_year['year'], by_year['Romance'], label='Romance')\n",
    "plt.plot(by_year['year'], by_year['Animation'], label='Animation')\n",
    "\n",
    "\n",
    "plt.xlabel('Release Year')\n",
    "plt.ylabel('Number of Movies')\n",
    "plt.title(\"Animation movies production rate compared to other genres:\")\n",
    "plt.legend();\n"
   ]
  },
  {
   "cell_type": "markdown",
   "metadata": {},
   "source": [
    "### Rating of \"Animation\" movies:"
   ]
  },
  {
   "cell_type": "code",
   "execution_count": 21,
   "metadata": {},
   "outputs": [
    {
     "data": {
      "image/png": "[encoded data removed]",
      "text/plain": [
       "<Figure size 432x288 with 1 Axes>"
      ]
     },
     "metadata": {
      "needs_background": "light"
     },
     "output_type": "display_data"
    }
   ],
   "source": [
    "\n",
    "Animation_movies = box_office [(box_office.genres == 'Animation')]\n",
    "plt.scatter(Animation_movies['year'], Animation_movies['rating'], color = 'blue');\n",
    "\n",
    "plt.xlabel('Release Year')\n",
    "plt.ylabel('Rating')\n",
    "plt.title(\"Rating of Animation movies by years:\");"
   ]
  },
  {
   "cell_type": "code",
   "execution_count": 22,
   "metadata": {},
   "outputs": [
    {
     "data": {
      "image/png": "[encoded data removed]",
      "text/plain": [
       "<Figure size 432x288 with 1 Axes>"
      ]
     },
     "metadata": {
      "needs_background": "light"
     },
     "output_type": "display_data"
    }
   ],
   "source": [
    "plt.hist(Animation_movies['rating'], 10, density=False, facecolor='green')\n",
    "plt.grid(True)\n",
    "\n",
    "plt.xlabel('Rating')\n",
    "plt.ylabel('Number of Movies')\n",
    "plt.title(\"Number of Animation movies per rating:\");"
   ]
  },
  {
   "cell_type": "markdown",
   "metadata": {},
   "source": [
    "### How many High rated \"Animation\" movies?\n"
   ]
  },
  {
   "cell_type": "code",
   "execution_count": 23,
   "metadata": {},
   "outputs": [
    {
     "name": "stdout",
     "output_type": "stream",
     "text": [
      "Total number of High rated \"Animation\" movies:\n",
      "13\n"
     ]
    },
    {
     "data": {
      "text/html": [
       "<div>\n",
       "<style scoped>\n",
       "    .dataframe tbody tr th:only-of-type {\n",
       "        vertical-align: middle;\n",
       "    }\n",
       "\n",
       "    .dataframe tbody tr th {\n",
       "        vertical-align: top;\n",
       "    }\n",
       "\n",
       "    .dataframe thead th {\n",
       "        text-align: right;\n",
       "    }\n",
       "</style>\n",
       "<table border=\"1\" class=\"dataframe\">\n",
       "  <thead>\n",
       "    <tr style=\"text-align: right;\">\n",
       "      <th></th>\n",
       "      <th>movieId</th>\n",
       "      <th>title</th>\n",
       "      <th>genres</th>\n",
       "      <th>year</th>\n",
       "      <th>userId</th>\n",
       "      <th>rating</th>\n",
       "    </tr>\n",
       "  </thead>\n",
       "  <tbody>\n",
       "    <tr>\n",
       "      <td>25719</td>\n",
       "      <td>126090</td>\n",
       "      <td>Hedgehog in the Fog (1975)</td>\n",
       "      <td>Animation</td>\n",
       "      <td>1975.0</td>\n",
       "      <td>84017.131387</td>\n",
       "      <td>4.007299</td>\n",
       "    </tr>\n",
       "    <tr>\n",
       "      <td>38171</td>\n",
       "      <td>159632</td>\n",
       "      <td>Mr. Dough and the Egg Princess (2010)</td>\n",
       "      <td>Animation</td>\n",
       "      <td>2010.0</td>\n",
       "      <td>82292.666667</td>\n",
       "      <td>4.333333</td>\n",
       "    </tr>\n",
       "    <tr>\n",
       "      <td>38584</td>\n",
       "      <td>160718</td>\n",
       "      <td>Piper (2016)</td>\n",
       "      <td>Animation</td>\n",
       "      <td>2016.0</td>\n",
       "      <td>82803.988655</td>\n",
       "      <td>4.140194</td>\n",
       "    </tr>\n",
       "    <tr>\n",
       "      <td>41867</td>\n",
       "      <td>168870</td>\n",
       "      <td>Lucky and Zorba (1998)</td>\n",
       "      <td>Animation</td>\n",
       "      <td>1998.0</td>\n",
       "      <td>88965.000000</td>\n",
       "      <td>4.100000</td>\n",
       "    </tr>\n",
       "    <tr>\n",
       "      <td>41930</td>\n",
       "      <td>169022</td>\n",
       "      <td>Classmates (2016)</td>\n",
       "      <td>Animation</td>\n",
       "      <td>2016.0</td>\n",
       "      <td>71799.750000</td>\n",
       "      <td>4.333333</td>\n",
       "    </tr>\n",
       "    <tr>\n",
       "      <td>43525</td>\n",
       "      <td>172587</td>\n",
       "      <td>Vacations in Prostokvashino (1980)</td>\n",
       "      <td>Animation</td>\n",
       "      <td>1980.0</td>\n",
       "      <td>83153.491228</td>\n",
       "      <td>4.008772</td>\n",
       "    </tr>\n",
       "    <tr>\n",
       "      <td>44155</td>\n",
       "      <td>173919</td>\n",
       "      <td>Legend of the Galactic Heroes: Golden Wings (1...</td>\n",
       "      <td>Animation</td>\n",
       "      <td>1992.0</td>\n",
       "      <td>134854.500000</td>\n",
       "      <td>4.500000</td>\n",
       "    </tr>\n",
       "    <tr>\n",
       "      <td>46540</td>\n",
       "      <td>179425</td>\n",
       "      <td>Dashavatar - Every era has a hero (2008)</td>\n",
       "      <td>Animation</td>\n",
       "      <td>2008.0</td>\n",
       "      <td>98669.000000</td>\n",
       "      <td>5.000000</td>\n",
       "    </tr>\n",
       "    <tr>\n",
       "      <td>49827</td>\n",
       "      <td>187049</td>\n",
       "      <td>Manieggs - Revenge of the Hard Egg (2014)</td>\n",
       "      <td>Animation</td>\n",
       "      <td>2014.0</td>\n",
       "      <td>64573.000000</td>\n",
       "      <td>4.750000</td>\n",
       "    </tr>\n",
       "    <tr>\n",
       "      <td>50306</td>\n",
       "      <td>188091</td>\n",
       "      <td>Аргонавты (1971)</td>\n",
       "      <td>Animation</td>\n",
       "      <td>1971.0</td>\n",
       "      <td>64117.166667</td>\n",
       "      <td>4.166667</td>\n",
       "    </tr>\n",
       "    <tr>\n",
       "      <td>52927</td>\n",
       "      <td>194260</td>\n",
       "      <td>It's Flashbeagle, Charlie Brown (1984)</td>\n",
       "      <td>Animation</td>\n",
       "      <td>1984.0</td>\n",
       "      <td>87136.500000</td>\n",
       "      <td>4.250000</td>\n",
       "    </tr>\n",
       "    <tr>\n",
       "      <td>57764</td>\n",
       "      <td>206014</td>\n",
       "      <td>The Little House (1952)</td>\n",
       "      <td>Animation</td>\n",
       "      <td>1952.0</td>\n",
       "      <td>90492.000000</td>\n",
       "      <td>4.500000</td>\n",
       "    </tr>\n",
       "    <tr>\n",
       "      <td>58072</td>\n",
       "      <td>206911</td>\n",
       "      <td>Garfield's Thanksgiving (1989)</td>\n",
       "      <td>Animation</td>\n",
       "      <td>1989.0</td>\n",
       "      <td>106901.000000</td>\n",
       "      <td>4.500000</td>\n",
       "    </tr>\n",
       "  </tbody>\n",
       "</table>\n",
       "</div>"
      ],
      "text/plain": [
       "       movieId                                              title     genres  \\\n",
       "25719   126090                         Hedgehog in the Fog (1975)  Animation   \n",
       "38171   159632              Mr. Dough and the Egg Princess (2010)  Animation   \n",
       "38584   160718                                       Piper (2016)  Animation   \n",
       "41867   168870                             Lucky and Zorba (1998)  Animation   \n",
       "41930   169022                                  Classmates (2016)  Animation   \n",
       "43525   172587                 Vacations in Prostokvashino (1980)  Animation   \n",
       "44155   173919  Legend of the Galactic Heroes: Golden Wings (1...  Animation   \n",
       "46540   179425           Dashavatar - Every era has a hero (2008)  Animation   \n",
       "49827   187049          Manieggs - Revenge of the Hard Egg (2014)  Animation   \n",
       "50306   188091                                   Аргонавты (1971)  Animation   \n",
       "52927   194260             It's Flashbeagle, Charlie Brown (1984)  Animation   \n",
       "57764   206014                            The Little House (1952)  Animation   \n",
       "58072   206911                     Garfield's Thanksgiving (1989)  Animation   \n",
       "\n",
       "         year         userId    rating  \n",
       "25719  1975.0   84017.131387  4.007299  \n",
       "38171  2010.0   82292.666667  4.333333  \n",
       "38584  2016.0   82803.988655  4.140194  \n",
       "41867  1998.0   88965.000000  4.100000  \n",
       "41930  2016.0   71799.750000  4.333333  \n",
       "43525  1980.0   83153.491228  4.008772  \n",
       "44155  1992.0  134854.500000  4.500000  \n",
       "46540  2008.0   98669.000000  5.000000  \n",
       "49827  2014.0   64573.000000  4.750000  \n",
       "50306  1971.0   64117.166667  4.166667  \n",
       "52927  1984.0   87136.500000  4.250000  \n",
       "57764  1952.0   90492.000000  4.500000  \n",
       "58072  1989.0  106901.000000  4.500000  "
      ]
     },
     "execution_count": 23,
     "metadata": {},
     "output_type": "execute_result"
    }
   ],
   "source": [
    "# Animation movies with rating more than '4'\n",
    "\n",
    "is_High = box_office [(box_office.genres == 'Animation') & (box_office.rating > 4)]\n",
    "print('Total number of High rated \"Animation\" movies:')\n",
    "print(len(is_High))\n",
    "is_High\n"
   ]
  },
  {
   "cell_type": "code",
   "execution_count": null,
   "metadata": {},
   "outputs": [],
   "source": []
  }
 ],
 "metadata": {
  "kernelspec": {
   "display_name": "Python 3",
   "language": "python",
   "name": "python3"
  },
  "language_info": {
   "codemirror_mode": {
    "name": "ipython",
    "version": 3
   },
   "file_extension": ".py",
   "mimetype": "text/x-python",
   "name": "python",
   "nbconvert_exporter": "python",
   "pygments_lexer": "ipython3",
   "version": "3.7.4"
  }
 },
 "nbformat": 4,
 "nbformat_minor": 2
}
